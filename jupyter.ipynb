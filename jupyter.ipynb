{
 "cells": [
  {
   "cell_type": "markdown",
   "metadata": {},
   "source": [
    "# Solving Time-Independant Shrodinger Equation for Harmonic Oscillator\n",
    "$\\hat{H}|\\Psi\\rangle = \\hat{T} + \\hat{V} |\\Psi\\rangle$\n"
   ]
  },
  {
   "cell_type": "code",
   "execution_count": 440,
   "metadata": {},
   "outputs": [],
   "source": [
    "import math\n",
    "import numpy as np\n",
    "from numpy import pi\n",
    "import matplotlib.pyplot as mlt"
   ]
  },
  {
   "cell_type": "code",
   "execution_count": 441,
   "metadata": {},
   "outputs": [],
   "source": [
    "#defining all the necessary constants here\n",
    "h_bar    = 1 #atomic unit\n",
    "m        = 1 #mass\n",
    "w        = 1 #omega\n",
    "com_term = h_bar**2 /(2*m) "
   ]
  },
  {
   "cell_type": "code",
   "execution_count": 442,
   "metadata": {},
   "outputs": [],
   "source": [
    "def E_psi(div):\n",
    "    H = H_psi(div)\n",
    "    E, psi = np.linalg.eigh(H)\n",
    "    return E\n",
    "def H_psi(div):\n",
    "    R = np.linspace(-10,10,div)\n",
    "    x = R[1] - R[0]\n",
    "    v = V(R)\n",
    "    t = T_with_fourier_transform(len(R),x)\n",
    "    H = v + t\n",
    "    return H\n",
    "def array_for_V(R):\n",
    "    return 0.5 * m * w**2 * R**2\n",
    "def V(R):\n",
    "    V_arr = array_for_V(R)\n",
    "    cap_V = np.zeros((len(R),len(R)))\n",
    "    for i in range(0,len(R)):\n",
    "        cap_V[i,i] = V_arr[i]\n",
    "    return cap_V\n",
    "def T_with_fourier_transform(n,del_x):\n",
    "    k = np.pi/del_x\n",
    "    cap_T = np.zeros((n,n))\n",
    "    for i in range(0,n):\n",
    "        for j in range(0,n):\n",
    "            if(i==j):\n",
    "                cap_T[i,j] = com_term * ((k**2)/3)*(1+(2/(n**2)))\n",
    "            else:\n",
    "                cap_T[i,j] = com_term * (2*k**2*(-1)**(j-i))/(n**2 * (np.sin(np.pi*(j-i)/n))**2)\n",
    "    return cap_T     "
   ]
  },
  {
   "cell_type": "code",
   "execution_count": 443,
   "metadata": {},
   "outputs": [],
   "source": [
    "def err_dev(div):\n",
    "    err_list = np.empty(div)\n",
    "    err_list = E_psi(div)\n",
    "    sum = 0\n",
    "    for i in range(1,div):\n",
    "        del_x = err_list[i]- err_list[i-1]\n",
    "        sum += (del_x-0.5)**2\n",
    "    dev = math.sqrt(sum/div)\n",
    "    return dev\n",
    "def mean_del_x(div):\n",
    "    mean_list = np.empty(div)\n",
    "    mean_list = E_psi(div)\n",
    "    sum = 0\n",
    "    for i in range(1,div):\n",
    "        del_x = mean_list[i] - mean_list[i-1]\n",
    "        sum += del_x\n",
    "    mean = sum/div\n",
    "    return mean\n",
    "def std_dev(div):\n",
    "    E_lst = np.empty(div)\n",
    "    E_lst = E_psi(div)\n",
    "    del_x = np.zeros(div)\n",
    "    mean_del_x_ = mean_del_x(div)\n",
    "    del_x_dev = np.zeros(div)\n",
    "    sqrd_sum = 0\n",
    "    for i in range(1,div):\n",
    "        del_x[i-1] = E_lst[i] - E_lst[i-1]\n",
    "        del_x_dev[i-1] = del_x[i-1] - mean_del_x_\n",
    "    del_x_dev = np.delete(del_x_dev, -1)\n",
    "    for j in range(0,div-1):\n",
    "        sqrd_sum += math.pow(del_x_dev[j], 2)  \n",
    "    std_dev = math.sqrt(sqrd_sum/div-1)\n",
    "    return std_dev\n",
    "def std_dev_actual(div):\n",
    "    E_lst = np.empty(div)\n",
    "    E_lst = E_psi(div)\n",
    "    del_x = np.zeros(div)\n",
    "    del_x_dev = np.zeros(div)\n",
    "    sqrd_sum = 0\n",
    "    for i in range(1,div):\n",
    "        del_x[i-1] = E_lst[i] - E_lst[i-1]\n",
    "        del_x_dev[i-1] = del_x[i-1] - 0.5\n",
    "    del_x_dev = np.delete(del_x_dev, -1)\n",
    "    for j in range(0,div-1):\n",
    "        sqrd_sum += math.pow(del_x_dev[j], 2)\n",
    "    std_dev_actual_ = math.sqrt(sqrd_sum/div-1)\n",
    "    return std_dev_actual_"
   ]
  },
  {
   "cell_type": "code",
   "execution_count": null,
   "metadata": {},
   "outputs": [],
   "source": [
    "    "
   ]
  },
  {
   "cell_type": "code",
   "execution_count": 444,
   "metadata": {},
   "outputs": [],
   "source": [
    "def plotter(limit):\n",
    "    x_axis = np.zeros(limit-4)\n",
    "    for i in range(5,limit+1):\n",
    "        x_axis[i-5] = i\n",
    "    y_axis = np.zeros(limit-4)\n",
    "    for j in range(5,limit+1):\n",
    "        y_axis[j-5] = err_dev(j)\n",
    "    mlt.plot(x_axis,y_axis)\n",
    "def plt_mean_delx(limit):\n",
    "    x_axis = np.zeros(limit-4)\n",
    "    for i in range(5,limit+1):\n",
    "        x_axis[i-5] = i\n",
    "    y_axis = np.zeros(limit-4)\n",
    "    for j in range(5,limit+1):\n",
    "        y_axis[j-5] = mean_del_x(j)\n",
    "    mlt.plot(x_axis,y_axis)\n",
    "def plt_std_dev(limit):\n",
    "    x_axis = np.zeros(limit-4)\n",
    "    for i in range(5,limit+1):\n",
    "        x_axis[i-5] = i\n",
    "    y_axis = np.zeros(limit-4)\n",
    "    for j in range(5,limit+1):\n",
    "        y_axis[j-5] = std_dev(j)\n",
    "    mlt.plot(x_axis,y_axis)\n",
    "def plt_std_dev_actual(limit):\n",
    "    x_axis = np.zeros(limit-4)\n",
    "    for i in range(5,limit+1):\n",
    "        x_axis[i-5] = i\n",
    "    y_axis = np.zeros(limit-4)\n",
    "    for j in range(5,limit+1):\n",
    "        y_axis[j-5] = std_dev_actual(j)\n",
    "    mlt.plot(x_axis,y_axis)"
   ]
  },
  {
   "cell_type": "code",
   "execution_count": null,
   "metadata": {},
   "outputs": [],
   "source": []
  }
 ],
 "metadata": {
  "interpreter": {
   "hash": "d42714b3726e93f58f4ad3b8c975e5651a30c17b5e2b3b1496ed294305f4e8fe"
  },
  "kernelspec": {
   "display_name": "Python 3.8.5 64-bit ('base': conda)",
   "language": "python",
   "name": "python3"
  },
  "language_info": {
   "codemirror_mode": {
    "name": "ipython",
    "version": 3
   },
   "file_extension": ".py",
   "mimetype": "text/x-python",
   "name": "python",
   "nbconvert_exporter": "python",
   "pygments_lexer": "ipython3",
   "version": "3.8.5"
  },
  "orig_nbformat": 4
 },
 "nbformat": 4,
 "nbformat_minor": 2
}
