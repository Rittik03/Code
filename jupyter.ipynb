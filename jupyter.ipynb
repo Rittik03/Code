{
 "cells": [
  {
   "cell_type": "markdown",
   "metadata": {},
   "source": [
    "# Solving Time-Independant Shrodinger Equation for Harmonic Oscillator\n",
    "$\\hat{H}|\\Psi\\rangle = \\hat{T} + \\hat{V} |\\Psi\\rangle$\n"
   ]
  },
  {
   "cell_type": "code",
   "execution_count": 467,
   "metadata": {},
   "outputs": [],
   "source": [
    "import numpy as np\n",
    "import math\n",
    "import matplotlib.pyplot as mlt\n",
    "from numpy import pi"
   ]
  },
  {
   "cell_type": "code",
   "execution_count": 468,
   "metadata": {},
   "outputs": [],
   "source": [
    "#defining all the necessary constants here\n",
    "h_bar    = 1 #atomic unit\n",
    "m        = 1 #mass\n",
    "w        = 1 #omega\n",
    "com_term = h_bar**2 /(2*m) "
   ]
  },
  {
   "cell_type": "code",
   "execution_count": 469,
   "metadata": {},
   "outputs": [],
   "source": [
    "def E_psi(div):\n",
    "    H = H_psi(div)\n",
    "    E, psi = np.linalg.eigh(H)\n",
    "    return E\n",
    "def H_psi(div):\n",
    "    R = np.linspace(-10,10,div)\n",
    "    x = R[1] - R[0]\n",
    "    v = V(R)\n",
    "    t = T_with_fourier_transform(len(R),x)\n",
    "    H = v + t\n",
    "    return H\n",
    "def array_for_V(R):\n",
    "    return 0.5 * m * w**2 * R**2\n",
    "def V(R):\n",
    "    V_arr = array_for_V(R)\n",
    "    cap_V = np.zeros((len(R),len(R)))\n",
    "    for i in range(0,len(R)):\n",
    "        cap_V[i,i] = V_arr[i]\n",
    "    return cap_V\n",
    "def T_with_fourier_transform(n,del_x):\n",
    "    k = np.pi/del_x\n",
    "    cap_T = np.zeros((n,n))\n",
    "    for i in range(0,n):\n",
    "        for j in range(0,n):\n",
    "            if(i==j):\n",
    "                cap_T[i,j] = com_term * ((k**2)/3)*(1+(2/(n**2)))\n",
    "            else:\n",
    "                cap_T[i,j] = com_term * (2*k**2*(-1)**(j-i))/(n**2 * (np.sin(np.pi*(j-i)/n))**2)\n",
    "    return cap_T     "
   ]
  },
  {
   "cell_type": "code",
   "execution_count": 470,
   "metadata": {},
   "outputs": [
    {
     "data": {
      "image/png": "[encoded data removed]",
      "text/plain": [
       "<Figure size 432x288 with 1 Axes>"
      ]
     },
     "metadata": {
      "needs_background": "light"
     },
     "output_type": "display_data"
    }
   ],
   "source": [
    "def err_calc(limit):\n",
    "    sum = 0\n",
    "    dev_list = []\n",
    "    for i in range(5,limit+1):\n",
    "        temp = E_psi(i)\n",
    "        for j in range(1,i):\n",
    "            x = temp[j] - temp[j-1]\n",
    "            err = (x - 0.5)**2\n",
    "            sum += err\n",
    "        dev = math.sqrt(sum/i)\n",
    "        dev_list.append(dev)\n",
    "        sum = 0\n",
    "    for k in range(5,limit):\n",
    "        mlt.plot(k,dev_list[k-5])\n",
    "err_calc(10)"
   ]
  }
 ],
 "metadata": {
  "interpreter": {
   "hash": "d42714b3726e93f58f4ad3b8c975e5651a30c17b5e2b3b1496ed294305f4e8fe"
  },
  "kernelspec": {
   "display_name": "Python 3.8.5 64-bit ('base': conda)",
   "language": "python",
   "name": "python3"
  },
  "language_info": {
   "codemirror_mode": {
    "name": "ipython",
    "version": 3
   },
   "file_extension": ".py",
   "mimetype": "text/x-python",
   "name": "python",
   "nbconvert_exporter": "python",
   "pygments_lexer": "ipython3",
   "version": "3.8.5"
  },
  "orig_nbformat": 4
 },
 "nbformat": 4,
 "nbformat_minor": 2
}
