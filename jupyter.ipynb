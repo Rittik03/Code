{
 "cells": [
  {
   "cell_type": "code",
   "execution_count": 236,
   "metadata": {},
   "outputs": [],
   "source": [
    "import numpy as np\n",
    "import matplotlib.pyplot as mlt\n",
    "from numpy import pi"
   ]
  },
  {
   "cell_type": "code",
   "execution_count": 237,
   "metadata": {},
   "outputs": [],
   "source": [
    "#defining all the necessary constants here\n",
    "h_bar    = 1 #atomic unit\n",
    "m        = 1 #mass\n",
    "w        = 1 #omega\n",
    "com_term = h_bar**2 /(2*m) "
   ]
  },
  {
   "cell_type": "markdown",
   "metadata": {},
   "source": [
    "# Solving Time-Independant Shrodinger Equation for Harmonic Oscillator\n",
    "$\\hat{H}|\\Psi\\rangle = \\hat{T} + \\hat{V} |\\Psi\\rangle$\n"
   ]
  },
  {
   "cell_type": "code",
   "execution_count": 238,
   "metadata": {},
   "outputs": [],
   "source": [
    "def H_psi(div):\n",
    "    R = np.linspace(-10,10,div)\n",
    "    x = R[1] - R[0]\n",
    "    v = V(R)\n",
    "    t = T_with_fourier_transform(len(R),x)\n",
    "    H = v + t\n",
    "    return H\n",
    "def array_for_V(R):\n",
    "    return 0.5 * m * w**2 * R**2\n",
    "def V(R):\n",
    "    V_arr = array_for_V(R)\n",
    "    cap_V = np.zeros((len(R),len(R)))\n",
    "    for i in range(0,len(R)):\n",
    "        cap_V[i,i] = V_arr[i]\n",
    "    return cap_V\n",
    "def T_with_fourier_transform(n,del_x):\n",
    "    k = np.pi/del_x\n",
    "    cap_T = np.zeros((n,n))\n",
    "    for i in range(0,n):\n",
    "        for j in range(0,n):\n",
    "            if(i==j):\n",
    "                cap_T[i,j] = com_term * ((k**2)/3)*(1+(2/(n**2)))\n",
    "            else:\n",
    "                cap_T[i,j] = com_term * (2*k**2*(-1)**(j-i))/(n**2 * (np.sin(np.pi*(j-i)/n))**2)\n",
    "    return cap_T     "
   ]
  },
  {
   "cell_type": "markdown",
   "metadata": {},
   "source": []
  },
  {
   "cell_type": "code",
   "execution_count": 239,
   "metadata": {},
   "outputs": [
    {
     "data": {
      "text/plain": [
       "array([[ 90.31305797, -24.51056259,   6.13369237, ...,  -2.73057534,\n",
       "          6.13369237, -24.51056259],\n",
       "       [-24.51056259,  88.31326203, -24.51056259, ...,   1.53949277,\n",
       "         -2.73057534,   6.13369237],\n",
       "       [  6.13369237, -24.51056259,  86.35427826, ...,  -0.98820094,\n",
       "          1.53949277,  -2.73057534],\n",
       "       ...,\n",
       "       [ -2.73057534,   1.53949277,  -0.98820094, ...,  86.35427826,\n",
       "        -24.51056259,   6.13369237],\n",
       "       [  6.13369237,  -2.73057534,   1.53949277, ..., -24.51056259,\n",
       "         88.31326203, -24.51056259],\n",
       "       [-24.51056259,   6.13369237,  -2.73057534, ...,   6.13369237,\n",
       "        -24.51056259,  90.31305797]])"
      ]
     },
     "execution_count": 239,
     "metadata": {},
     "output_type": "execute_result"
    }
   ],
   "source": [
    "def err_calc(limit):\n",
    "    for i in range(0,limit):\n",
    "        temp = H_psi(i)\n",
    "        for j in range(1,i):\n",
    "            x = temp[j] - temp[j-1]\n",
    "            sum += x\n"
   ]
  }
 ],
 "metadata": {
  "interpreter": {
   "hash": "d42714b3726e93f58f4ad3b8c975e5651a30c17b5e2b3b1496ed294305f4e8fe"
  },
  "kernelspec": {
   "display_name": "Python 3.8.5 64-bit ('base': conda)",
   "language": "python",
   "name": "python3"
  },
  "language_info": {
   "codemirror_mode": {
    "name": "ipython",
    "version": 3
   },
   "file_extension": ".py",
   "mimetype": "text/x-python",
   "name": "python",
   "nbconvert_exporter": "python",
   "pygments_lexer": "ipython3",
   "version": "3.8.5"
  },
  "orig_nbformat": 4
 },
 "nbformat": 4,
 "nbformat_minor": 2
}
